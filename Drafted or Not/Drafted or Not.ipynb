{
 "cells": [
  {
   "cell_type": "markdown",
   "metadata": {},
   "source": [
    "Regression Model: Drafter or Not"
   ]
  },
  {
   "cell_type": "code",
   "execution_count": 1,
   "metadata": {},
   "outputs": [],
   "source": [
    "# import libraries\n",
    "import pandas as pd\n",
    "# import numpy as np\n",
    "# import matplotlib.pyplot as plt\n",
    "import re\n",
    "\n",
    "# ML Libraries\n",
    "from sklearn.model_selection import train_test_split\n",
    "from sklearn.preprocessing import StandardScaler\n",
    "# from sklearn.linear_model import LogisticRegression\n",
    "# from sklearn.metrics import accuracy_score, classification_report\n",
    "from tensorflow.keras.utils import to_categorical\n",
    "from sklearn.linear_model import LinearRegression\n",
    "import tensorflow as tf"
   ]
  },
  {
   "cell_type": "code",
   "execution_count": 2,
   "metadata": {},
   "outputs": [],
   "source": [
    "raw1 = pd.read_csv('draft_v02_df - IF DRAFTED.csv')"
   ]
  },
  {
   "cell_type": "code",
   "execution_count": 3,
   "metadata": {},
   "outputs": [
    {
     "data": {
      "text/html": [
       "<div>\n",
       "<style scoped>\n",
       "    .dataframe tbody tr th:only-of-type {\n",
       "        vertical-align: middle;\n",
       "    }\n",
       "\n",
       "    .dataframe tbody tr th {\n",
       "        vertical-align: top;\n",
       "    }\n",
       "\n",
       "    .dataframe thead th {\n",
       "        text-align: right;\n",
       "    }\n",
       "</style>\n",
       "<table border=\"1\" class=\"dataframe\">\n",
       "  <thead>\n",
       "    <tr style=\"text-align: right;\">\n",
       "      <th></th>\n",
       "      <th>player_id</th>\n",
       "      <th>year</th>\n",
       "      <th>player_name</th>\n",
       "      <th>position_combine</th>\n",
       "      <th>School</th>\n",
       "      <th>height</th>\n",
       "      <th>weight</th>\n",
       "      <th>forty_yard</th>\n",
       "      <th>vertical_leap</th>\n",
       "      <th>bench_press</th>\n",
       "      <th>broad_jump</th>\n",
       "      <th>three_cone</th>\n",
       "      <th>shuttle_run</th>\n",
       "      <th>nfl_team</th>\n",
       "      <th>position_nfl</th>\n",
       "      <th>position_nfl_standard</th>\n",
       "      <th>IF_DRAFTED</th>\n",
       "      <th>draft_round</th>\n",
       "      <th>draft_pick</th>\n",
       "    </tr>\n",
       "  </thead>\n",
       "  <tbody>\n",
       "    <tr>\n",
       "      <th>0</th>\n",
       "      <td>2000JohnAbra</td>\n",
       "      <td>2000</td>\n",
       "      <td>John Abraham</td>\n",
       "      <td>OLB</td>\n",
       "      <td>South Carolina</td>\n",
       "      <td>6 ft 4 in</td>\n",
       "      <td>252.0</td>\n",
       "      <td>4.55</td>\n",
       "      <td>NaN</td>\n",
       "      <td>NaN</td>\n",
       "      <td>NaN</td>\n",
       "      <td>NaN</td>\n",
       "      <td>NaN</td>\n",
       "      <td>NYJ</td>\n",
       "      <td>DE</td>\n",
       "      <td>DE</td>\n",
       "      <td>1</td>\n",
       "      <td>1.0</td>\n",
       "      <td>13.0</td>\n",
       "    </tr>\n",
       "    <tr>\n",
       "      <th>1</th>\n",
       "      <td>2000ShauAlex</td>\n",
       "      <td>2000</td>\n",
       "      <td>Shaun Alexander</td>\n",
       "      <td>RB</td>\n",
       "      <td>Alabama</td>\n",
       "      <td>6 ft 0 in</td>\n",
       "      <td>218.0</td>\n",
       "      <td>4.58</td>\n",
       "      <td>NaN</td>\n",
       "      <td>NaN</td>\n",
       "      <td>NaN</td>\n",
       "      <td>NaN</td>\n",
       "      <td>NaN</td>\n",
       "      <td>SEA</td>\n",
       "      <td>RB</td>\n",
       "      <td>RB</td>\n",
       "      <td>1</td>\n",
       "      <td>1.0</td>\n",
       "      <td>19.0</td>\n",
       "    </tr>\n",
       "    <tr>\n",
       "      <th>2</th>\n",
       "      <td>2000DarnAlfo</td>\n",
       "      <td>2000</td>\n",
       "      <td>Darnell Alford</td>\n",
       "      <td>OT</td>\n",
       "      <td>Boston Col.</td>\n",
       "      <td>6 ft 4 in</td>\n",
       "      <td>334.0</td>\n",
       "      <td>5.56</td>\n",
       "      <td>25.0</td>\n",
       "      <td>23.0</td>\n",
       "      <td>94.0</td>\n",
       "      <td>8.48</td>\n",
       "      <td>4.98</td>\n",
       "      <td>KAN</td>\n",
       "      <td>G</td>\n",
       "      <td>G</td>\n",
       "      <td>1</td>\n",
       "      <td>6.0</td>\n",
       "      <td>188.0</td>\n",
       "    </tr>\n",
       "    <tr>\n",
       "      <th>3</th>\n",
       "      <td>2000KyleAlla</td>\n",
       "      <td>2000</td>\n",
       "      <td>Kyle Allamon</td>\n",
       "      <td>TE</td>\n",
       "      <td>Texas Tech</td>\n",
       "      <td>6 ft 2 in</td>\n",
       "      <td>253.0</td>\n",
       "      <td>4.97</td>\n",
       "      <td>29.0</td>\n",
       "      <td>NaN</td>\n",
       "      <td>104.0</td>\n",
       "      <td>7.29</td>\n",
       "      <td>4.49</td>\n",
       "      <td>NaN</td>\n",
       "      <td>NaN</td>\n",
       "      <td>NaN</td>\n",
       "      <td>0</td>\n",
       "      <td>NaN</td>\n",
       "      <td>NaN</td>\n",
       "    </tr>\n",
       "    <tr>\n",
       "      <th>4</th>\n",
       "      <td>2000RashAnde</td>\n",
       "      <td>2000</td>\n",
       "      <td>Rashard Anderson</td>\n",
       "      <td>CB</td>\n",
       "      <td>Jackson State</td>\n",
       "      <td>6 ft 2 in</td>\n",
       "      <td>206.0</td>\n",
       "      <td>4.55</td>\n",
       "      <td>34.0</td>\n",
       "      <td>NaN</td>\n",
       "      <td>123.0</td>\n",
       "      <td>7.18</td>\n",
       "      <td>4.15</td>\n",
       "      <td>CAR</td>\n",
       "      <td>DB</td>\n",
       "      <td>DB</td>\n",
       "      <td>1</td>\n",
       "      <td>1.0</td>\n",
       "      <td>23.0</td>\n",
       "    </tr>\n",
       "  </tbody>\n",
       "</table>\n",
       "</div>"
      ],
      "text/plain": [
       "      player_id  year       player_name position_combine          School  \\\n",
       "0  2000JohnAbra  2000      John Abraham              OLB  South Carolina   \n",
       "1  2000ShauAlex  2000   Shaun Alexander               RB         Alabama   \n",
       "2  2000DarnAlfo  2000    Darnell Alford               OT     Boston Col.   \n",
       "3  2000KyleAlla  2000      Kyle Allamon               TE      Texas Tech   \n",
       "4  2000RashAnde  2000  Rashard Anderson               CB   Jackson State   \n",
       "\n",
       "      height  weight  forty_yard  vertical_leap  bench_press  broad_jump  \\\n",
       "0  6 ft 4 in   252.0        4.55            NaN          NaN         NaN   \n",
       "1  6 ft 0 in   218.0        4.58            NaN          NaN         NaN   \n",
       "2  6 ft 4 in   334.0        5.56           25.0         23.0        94.0   \n",
       "3  6 ft 2 in   253.0        4.97           29.0          NaN       104.0   \n",
       "4  6 ft 2 in   206.0        4.55           34.0          NaN       123.0   \n",
       "\n",
       "   three_cone  shuttle_run nfl_team position_nfl position_nfl_standard  \\\n",
       "0         NaN          NaN      NYJ           DE                    DE   \n",
       "1         NaN          NaN      SEA           RB                    RB   \n",
       "2        8.48         4.98      KAN            G                     G   \n",
       "3        7.29         4.49      NaN          NaN                   NaN   \n",
       "4        7.18         4.15      CAR           DB                    DB   \n",
       "\n",
       "   IF_DRAFTED  draft_round  draft_pick  \n",
       "0           1          1.0        13.0  \n",
       "1           1          1.0        19.0  \n",
       "2           1          6.0       188.0  \n",
       "3           0          NaN         NaN  \n",
       "4           1          1.0        23.0  "
      ]
     },
     "execution_count": 3,
     "metadata": {},
     "output_type": "execute_result"
    }
   ],
   "source": [
    "raw1.head()"
   ]
  },
  {
   "cell_type": "code",
   "execution_count": 4,
   "metadata": {},
   "outputs": [
    {
     "name": "stdout",
     "output_type": "stream",
     "text": [
      "Count of missing values for each columns:\n",
      "player_id                   0\n",
      "year                        0\n",
      "player_name                 0\n",
      "position_combine            0\n",
      "School                      0\n",
      "height                     29\n",
      "weight                     24\n",
      "forty_yard                474\n",
      "vertical_leap            1750\n",
      "bench_press              2588\n",
      "broad_jump               1823\n",
      "three_cone               2891\n",
      "shuttle_run              2788\n",
      "nfl_team                 4278\n",
      "position_nfl             4278\n",
      "position_nfl_standard    4278\n",
      "IF_DRAFTED                  0\n",
      "draft_round              4278\n",
      "draft_pick               4278\n",
      "dtype: int64\n"
     ]
    }
   ],
   "source": [
    "#Data Exploration\n",
    "num_nans1 = raw1.isna().sum()\n",
    "print('Count of missing values for each columns:')\n",
    "print(num_nans1)"
   ]
  },
  {
   "cell_type": "code",
   "execution_count": 5,
   "metadata": {},
   "outputs": [],
   "source": [
    "raw1.dropna(subset = 'height', axis=0, inplace=True)"
   ]
  },
  {
   "cell_type": "code",
   "execution_count": 6,
   "metadata": {},
   "outputs": [],
   "source": [
    "# change height string into inches (int)\n",
    "str_height = raw1['height']\n",
    "def inches(string):\n",
    "    split_list = re.split(r'\\s+', string)\n",
    "    feet = pd.to_numeric(split_list[0])\n",
    "    inches = pd.to_numeric(split_list[2])\n",
    "    total = feet*12 + inches\n",
    "    return total\n",
    "    \n",
    "inches_height = [inches(h) for h in str_height]\n",
    "inches_height\n",
    "\n",
    "raw1['height'] = inches_height"
   ]
  },
  {
   "cell_type": "code",
   "execution_count": 7,
   "metadata": {},
   "outputs": [],
   "source": [
    "# Split our preprocessed data into our features and target arrays\n",
    "X = raw1[['year', 'height', 'weight', 'forty_yard', 'vertical_leap', 'bench_press', 'broad_jump', 'three_cone', 'shuttle_run']]\n",
    "y = raw1['IF_DRAFTED']"
   ]
  },
  {
   "cell_type": "code",
   "execution_count": 8,
   "metadata": {},
   "outputs": [],
   "source": [
    "#Handle missing values with mean or median\n",
    "X = X.fillna(X.mean())"
   ]
  },
  {
   "cell_type": "code",
   "execution_count": 9,
   "metadata": {},
   "outputs": [
    {
     "data": {
      "text/html": [
       "<style>#sk-container-id-1 {color: black;background-color: white;}#sk-container-id-1 pre{padding: 0;}#sk-container-id-1 div.sk-toggleable {background-color: white;}#sk-container-id-1 label.sk-toggleable__label {cursor: pointer;display: block;width: 100%;margin-bottom: 0;padding: 0.3em;box-sizing: border-box;text-align: center;}#sk-container-id-1 label.sk-toggleable__label-arrow:before {content: \"▸\";float: left;margin-right: 0.25em;color: #696969;}#sk-container-id-1 label.sk-toggleable__label-arrow:hover:before {color: black;}#sk-container-id-1 div.sk-estimator:hover label.sk-toggleable__label-arrow:before {color: black;}#sk-container-id-1 div.sk-toggleable__content {max-height: 0;max-width: 0;overflow: hidden;text-align: left;background-color: #f0f8ff;}#sk-container-id-1 div.sk-toggleable__content pre {margin: 0.2em;color: black;border-radius: 0.25em;background-color: #f0f8ff;}#sk-container-id-1 input.sk-toggleable__control:checked~div.sk-toggleable__content {max-height: 200px;max-width: 100%;overflow: auto;}#sk-container-id-1 input.sk-toggleable__control:checked~label.sk-toggleable__label-arrow:before {content: \"▾\";}#sk-container-id-1 div.sk-estimator input.sk-toggleable__control:checked~label.sk-toggleable__label {background-color: #d4ebff;}#sk-container-id-1 div.sk-label input.sk-toggleable__control:checked~label.sk-toggleable__label {background-color: #d4ebff;}#sk-container-id-1 input.sk-hidden--visually {border: 0;clip: rect(1px 1px 1px 1px);clip: rect(1px, 1px, 1px, 1px);height: 1px;margin: -1px;overflow: hidden;padding: 0;position: absolute;width: 1px;}#sk-container-id-1 div.sk-estimator {font-family: monospace;background-color: #f0f8ff;border: 1px dotted black;border-radius: 0.25em;box-sizing: border-box;margin-bottom: 0.5em;}#sk-container-id-1 div.sk-estimator:hover {background-color: #d4ebff;}#sk-container-id-1 div.sk-parallel-item::after {content: \"\";width: 100%;border-bottom: 1px solid gray;flex-grow: 1;}#sk-container-id-1 div.sk-label:hover label.sk-toggleable__label {background-color: #d4ebff;}#sk-container-id-1 div.sk-serial::before {content: \"\";position: absolute;border-left: 1px solid gray;box-sizing: border-box;top: 0;bottom: 0;left: 50%;z-index: 0;}#sk-container-id-1 div.sk-serial {display: flex;flex-direction: column;align-items: center;background-color: white;padding-right: 0.2em;padding-left: 0.2em;position: relative;}#sk-container-id-1 div.sk-item {position: relative;z-index: 1;}#sk-container-id-1 div.sk-parallel {display: flex;align-items: stretch;justify-content: center;background-color: white;position: relative;}#sk-container-id-1 div.sk-item::before, #sk-container-id-1 div.sk-parallel-item::before {content: \"\";position: absolute;border-left: 1px solid gray;box-sizing: border-box;top: 0;bottom: 0;left: 50%;z-index: -1;}#sk-container-id-1 div.sk-parallel-item {display: flex;flex-direction: column;z-index: 1;position: relative;background-color: white;}#sk-container-id-1 div.sk-parallel-item:first-child::after {align-self: flex-end;width: 50%;}#sk-container-id-1 div.sk-parallel-item:last-child::after {align-self: flex-start;width: 50%;}#sk-container-id-1 div.sk-parallel-item:only-child::after {width: 0;}#sk-container-id-1 div.sk-dashed-wrapped {border: 1px dashed gray;margin: 0 0.4em 0.5em 0.4em;box-sizing: border-box;padding-bottom: 0.4em;background-color: white;}#sk-container-id-1 div.sk-label label {font-family: monospace;font-weight: bold;display: inline-block;line-height: 1.2em;}#sk-container-id-1 div.sk-label-container {text-align: center;}#sk-container-id-1 div.sk-container {/* jupyter's `normalize.less` sets `[hidden] { display: none; }` but bootstrap.min.css set `[hidden] { display: none !important; }` so we also need the `!important` here to be able to override the default hidden behavior on the sphinx rendered scikit-learn.org. See: https://github.com/scikit-learn/scikit-learn/issues/21755 */display: inline-block !important;position: relative;}#sk-container-id-1 div.sk-text-repr-fallback {display: none;}</style><div id=\"sk-container-id-1\" class=\"sk-top-container\"><div class=\"sk-text-repr-fallback\"><pre>LinearRegression()</pre><b>In a Jupyter environment, please rerun this cell to show the HTML representation or trust the notebook. <br />On GitHub, the HTML representation is unable to render, please try loading this page with nbviewer.org.</b></div><div class=\"sk-container\" hidden><div class=\"sk-item\"><div class=\"sk-estimator sk-toggleable\"><input class=\"sk-toggleable__control sk-hidden--visually\" id=\"sk-estimator-id-1\" type=\"checkbox\" checked><label for=\"sk-estimator-id-1\" class=\"sk-toggleable__label sk-toggleable__label-arrow\">LinearRegression</label><div class=\"sk-toggleable__content\"><pre>LinearRegression()</pre></div></div></div></div></div>"
      ],
      "text/plain": [
       "LinearRegression()"
      ]
     },
     "execution_count": 9,
     "metadata": {},
     "output_type": "execute_result"
    }
   ],
   "source": [
    "# Split the preprocessed data into a training and testing dataset\n",
    "X_train, X_test, y_train, y_test = train_test_split(X, y, test_size=0.2, random_state=42)\n",
    "model = LinearRegression()\n",
    "model.fit(X_train, y_train)"
   ]
  },
  {
   "cell_type": "code",
   "execution_count": 10,
   "metadata": {},
   "outputs": [
    {
     "data": {
      "text/plain": [
       "array([0, 1], dtype=int64)"
      ]
     },
     "execution_count": 10,
     "metadata": {},
     "output_type": "execute_result"
    }
   ],
   "source": [
    "y_test.unique()"
   ]
  },
  {
   "cell_type": "code",
   "execution_count": 11,
   "metadata": {},
   "outputs": [
    {
     "data": {
      "text/plain": [
       "array([0., 1.], dtype=float32)"
      ]
     },
     "execution_count": 11,
     "metadata": {},
     "output_type": "execute_result"
    }
   ],
   "source": [
    "num_classes = 2\n",
    "y_train = to_categorical(y_train, num_classes)\n",
    "y_test = to_categorical(y_test, num_classes)\n",
    "# Original label of `2` is one-hot encoded as `01`\n",
    "y_train[0]"
   ]
  },
  {
   "cell_type": "code",
   "execution_count": 12,
   "metadata": {},
   "outputs": [],
   "source": [
    "# Create a StandardScaler instances\n",
    "scaler = StandardScaler()\n",
    "\n",
    "# Fit the StandardScaler\n",
    "X_scaler = scaler.fit(X_train)\n",
    "\n",
    "# Scale the data\n",
    "X_train_scaled = X_scaler.transform(X_train)\n",
    "X_test_scaled = X_scaler.transform(X_test)"
   ]
  },
  {
   "cell_type": "code",
   "execution_count": 13,
   "metadata": {},
   "outputs": [
    {
     "name": "stdout",
     "output_type": "stream",
     "text": [
      "Model: \"sequential\"\n",
      "_________________________________________________________________\n",
      " Layer (type)                Output Shape              Param #   \n",
      "=================================================================\n",
      " dense (Dense)               (None, 150)               1500      \n",
      "                                                                 \n",
      " dense_1 (Dense)             (None, 150)               22650     \n",
      "                                                                 \n",
      " dense_2 (Dense)             (None, 2)                 302       \n",
      "                                                                 \n",
      "=================================================================\n",
      "Total params: 24452 (95.52 KB)\n",
      "Trainable params: 24452 (95.52 KB)\n",
      "Non-trainable params: 0 (0.00 Byte)\n",
      "_________________________________________________________________\n"
     ]
    }
   ],
   "source": [
    "number_input_features = len(X_train_scaled[0])\n",
    "hidden_nodes_layer1 = 150\n",
    "hidden_nodes_layer2 = 150\n",
    "# hidden_nodes_layer3 = 50\n",
    "# hidden_nodes_layer4 = 50\n",
    "\n",
    "nn_model = tf.keras.models.Sequential()\n",
    "\n",
    "#-------------------------------------------------------------------------------------\n",
    "# First hidden layer\n",
    "nn_model.add(tf.keras.layers.Dense(units=hidden_nodes_layer1,\n",
    "             input_dim=number_input_features, activation=\"relu\"))\n",
    "\n",
    "# Second hidden layer\n",
    "nn_model.add(tf.keras.layers.Dense(\n",
    "    units=hidden_nodes_layer2, activation=\"relu\"))\n",
    "\n",
    "# # #Third hidden layer\n",
    "# nn_model.add(tf.keras.layers.Dense(\n",
    "#     units=hidden_nodes_layer3, activation=\"relu\"))\n",
    "\n",
    "# #Fourth hidden layer\n",
    "# nn_model.add(tf.keras.layers.Dense(\n",
    "#     units=hidden_nodes_layer4, activation=\"relu\"))\n",
    "#-------------------------------------------------------------------------------------\n",
    "# Output layer\n",
    "nn_model.add(tf.keras.layers.Dense(num_classes, activation=\"sigmoid\"))\n",
    "\n",
    "# Check the structure of the model\n",
    "nn_model.summary()"
   ]
  },
  {
   "cell_type": "code",
   "execution_count": 14,
   "metadata": {},
   "outputs": [],
   "source": [
    "# Compile the model\n",
    "nn_model.compile(loss='categorical_crossentropy', optimizer='adam', metrics=['accuracy'])"
   ]
  },
  {
   "cell_type": "code",
   "execution_count": 15,
   "metadata": {},
   "outputs": [
    {
     "name": "stdout",
     "output_type": "stream",
     "text": [
      "Epoch 1/80\n"
     ]
    },
    {
     "name": "stdout",
     "output_type": "stream",
     "text": [
      "192/192 [==============================] - 11s 17ms/step - loss: 0.4861 - accuracy: 0.7458\n",
      "Epoch 2/80\n",
      "192/192 [==============================] - 3s 17ms/step - loss: 0.4267 - accuracy: 0.7794\n",
      "Epoch 3/80\n",
      "192/192 [==============================] - 3s 16ms/step - loss: 0.4127 - accuracy: 0.7858\n",
      "Epoch 4/80\n",
      "192/192 [==============================] - 3s 16ms/step - loss: 0.4049 - accuracy: 0.7884\n",
      "Epoch 5/80\n",
      "192/192 [==============================] - 3s 17ms/step - loss: 0.3993 - accuracy: 0.7918\n",
      "Epoch 6/80\n",
      "192/192 [==============================] - 3s 16ms/step - loss: 0.3942 - accuracy: 0.7953\n",
      "Epoch 7/80\n",
      "192/192 [==============================] - 3s 17ms/step - loss: 0.3892 - accuracy: 0.7982\n",
      "Epoch 8/80\n",
      "192/192 [==============================] - 3s 16ms/step - loss: 0.3849 - accuracy: 0.8016\n",
      "Epoch 9/80\n",
      "192/192 [==============================] - 3s 16ms/step - loss: 0.3820 - accuracy: 0.8013\n",
      "Epoch 10/80\n",
      "192/192 [==============================] - 3s 16ms/step - loss: 0.3805 - accuracy: 0.8046\n",
      "Epoch 11/80\n",
      "192/192 [==============================] - 3s 16ms/step - loss: 0.3761 - accuracy: 0.8073\n",
      "Epoch 12/80\n",
      "192/192 [==============================] - 3s 17ms/step - loss: 0.3740 - accuracy: 0.8131\n",
      "Epoch 13/80\n",
      "192/192 [==============================] - 3s 16ms/step - loss: 0.3710 - accuracy: 0.8144\n",
      "Epoch 14/80\n",
      "192/192 [==============================] - 3s 16ms/step - loss: 0.3688 - accuracy: 0.8132\n",
      "Epoch 15/80\n",
      "192/192 [==============================] - 3s 16ms/step - loss: 0.3677 - accuracy: 0.8162\n",
      "Epoch 16/80\n",
      "192/192 [==============================] - 3s 16ms/step - loss: 0.3639 - accuracy: 0.8183\n",
      "Epoch 17/80\n",
      "192/192 [==============================] - 3s 14ms/step - loss: 0.3641 - accuracy: 0.8176\n",
      "Epoch 18/80\n",
      "192/192 [==============================] - 3s 16ms/step - loss: 0.3581 - accuracy: 0.8225\n",
      "Epoch 19/80\n",
      "192/192 [==============================] - 3s 16ms/step - loss: 0.3522 - accuracy: 0.8274\n",
      "Epoch 20/80\n",
      "192/192 [==============================] - 3s 16ms/step - loss: 0.3541 - accuracy: 0.8238\n",
      "Epoch 21/80\n",
      "192/192 [==============================] - 3s 17ms/step - loss: 0.3504 - accuracy: 0.8291\n",
      "Epoch 22/80\n",
      "192/192 [==============================] - 3s 16ms/step - loss: 0.3502 - accuracy: 0.8247\n",
      "Epoch 23/80\n",
      "192/192 [==============================] - 3s 16ms/step - loss: 0.3465 - accuracy: 0.8279\n",
      "Epoch 24/80\n",
      "192/192 [==============================] - 3s 16ms/step - loss: 0.3443 - accuracy: 0.8271\n",
      "Epoch 25/80\n",
      "192/192 [==============================] - 3s 14ms/step - loss: 0.3393 - accuracy: 0.8307\n",
      "Epoch 26/80\n",
      "192/192 [==============================] - 3s 14ms/step - loss: 0.3352 - accuracy: 0.8340\n",
      "Epoch 27/80\n",
      "192/192 [==============================] - 3s 13ms/step - loss: 0.3335 - accuracy: 0.8340\n",
      "Epoch 28/80\n",
      "192/192 [==============================] - 3s 15ms/step - loss: 0.3303 - accuracy: 0.8361\n",
      "Epoch 29/80\n",
      "192/192 [==============================] - 3s 13ms/step - loss: 0.3269 - accuracy: 0.8372\n",
      "Epoch 30/80\n",
      "192/192 [==============================] - 3s 16ms/step - loss: 0.3215 - accuracy: 0.8405\n",
      "Epoch 31/80\n",
      "192/192 [==============================] - 3s 16ms/step - loss: 0.3210 - accuracy: 0.8372\n",
      "Epoch 32/80\n",
      "192/192 [==============================] - 3s 15ms/step - loss: 0.3200 - accuracy: 0.8428\n",
      "Epoch 33/80\n",
      "192/192 [==============================] - 3s 17ms/step - loss: 0.3141 - accuracy: 0.8498\n",
      "Epoch 34/80\n",
      "192/192 [==============================] - 3s 16ms/step - loss: 0.3126 - accuracy: 0.8454\n",
      "Epoch 35/80\n",
      "192/192 [==============================] - 3s 14ms/step - loss: 0.3087 - accuracy: 0.8522\n",
      "Epoch 36/80\n",
      "192/192 [==============================] - 3s 17ms/step - loss: 0.3032 - accuracy: 0.8536\n",
      "Epoch 37/80\n",
      "192/192 [==============================] - 3s 14ms/step - loss: 0.2996 - accuracy: 0.8573\n",
      "Epoch 38/80\n",
      "192/192 [==============================] - 3s 14ms/step - loss: 0.2989 - accuracy: 0.8588\n",
      "Epoch 39/80\n",
      "192/192 [==============================] - 3s 15ms/step - loss: 0.2973 - accuracy: 0.8550\n",
      "Epoch 40/80\n",
      "192/192 [==============================] - 3s 14ms/step - loss: 0.2903 - accuracy: 0.8606\n",
      "Epoch 41/80\n",
      "192/192 [==============================] - 3s 15ms/step - loss: 0.2887 - accuracy: 0.8617\n",
      "Epoch 42/80\n",
      "192/192 [==============================] - 3s 15ms/step - loss: 0.2865 - accuracy: 0.8653\n",
      "Epoch 43/80\n",
      "192/192 [==============================] - 3s 15ms/step - loss: 0.2828 - accuracy: 0.8666\n",
      "Epoch 44/80\n",
      "192/192 [==============================] - 3s 15ms/step - loss: 0.2786 - accuracy: 0.8691\n",
      "Epoch 45/80\n",
      "192/192 [==============================] - 3s 16ms/step - loss: 0.2755 - accuracy: 0.8686\n",
      "Epoch 46/80\n",
      "192/192 [==============================] - 3s 14ms/step - loss: 0.2744 - accuracy: 0.8712\n",
      "Epoch 47/80\n",
      "192/192 [==============================] - 3s 14ms/step - loss: 0.2692 - accuracy: 0.8707\n",
      "Epoch 48/80\n",
      "192/192 [==============================] - 3s 15ms/step - loss: 0.2649 - accuracy: 0.8704\n",
      "Epoch 49/80\n",
      "192/192 [==============================] - 3s 15ms/step - loss: 0.2633 - accuracy: 0.8776\n",
      "Epoch 50/80\n",
      "192/192 [==============================] - 3s 15ms/step - loss: 0.2567 - accuracy: 0.8798\n",
      "Epoch 51/80\n",
      "192/192 [==============================] - 3s 15ms/step - loss: 0.2560 - accuracy: 0.8795\n",
      "Epoch 52/80\n",
      "192/192 [==============================] - 3s 16ms/step - loss: 0.2515 - accuracy: 0.8836\n",
      "Epoch 53/80\n",
      "192/192 [==============================] - 3s 15ms/step - loss: 0.2506 - accuracy: 0.8800\n",
      "Epoch 54/80\n",
      "192/192 [==============================] - 3s 16ms/step - loss: 0.2474 - accuracy: 0.8865\n",
      "Epoch 55/80\n",
      "192/192 [==============================] - 3s 16ms/step - loss: 0.2428 - accuracy: 0.8908\n",
      "Epoch 56/80\n",
      "192/192 [==============================] - 3s 14ms/step - loss: 0.2377 - accuracy: 0.8936\n",
      "Epoch 57/80\n",
      "192/192 [==============================] - 3s 15ms/step - loss: 0.2379 - accuracy: 0.8908\n",
      "Epoch 58/80\n",
      "192/192 [==============================] - 3s 15ms/step - loss: 0.2367 - accuracy: 0.8926\n",
      "Epoch 59/80\n",
      "192/192 [==============================] - 3s 15ms/step - loss: 0.2345 - accuracy: 0.8919\n",
      "Epoch 60/80\n",
      "192/192 [==============================] - 3s 15ms/step - loss: 0.2288 - accuracy: 0.8970\n",
      "Epoch 61/80\n",
      "192/192 [==============================] - 3s 15ms/step - loss: 0.2231 - accuracy: 0.9019\n",
      "Epoch 62/80\n",
      "192/192 [==============================] - 3s 15ms/step - loss: 0.2234 - accuracy: 0.8958\n",
      "Epoch 63/80\n",
      "192/192 [==============================] - 3s 15ms/step - loss: 0.2212 - accuracy: 0.8986\n",
      "Epoch 64/80\n",
      "192/192 [==============================] - 3s 15ms/step - loss: 0.2163 - accuracy: 0.9064\n",
      "Epoch 65/80\n",
      "192/192 [==============================] - 3s 15ms/step - loss: 0.2097 - accuracy: 0.9115\n",
      "Epoch 66/80\n",
      "192/192 [==============================] - 3s 16ms/step - loss: 0.2108 - accuracy: 0.9074\n",
      "Epoch 67/80\n",
      "192/192 [==============================] - 3s 14ms/step - loss: 0.2058 - accuracy: 0.9105\n",
      "Epoch 68/80\n",
      "192/192 [==============================] - 3s 15ms/step - loss: 0.2040 - accuracy: 0.9096\n",
      "Epoch 69/80\n",
      "192/192 [==============================] - 3s 15ms/step - loss: 0.2068 - accuracy: 0.9118\n",
      "Epoch 70/80\n",
      "192/192 [==============================] - 3s 14ms/step - loss: 0.1990 - accuracy: 0.9153\n",
      "Epoch 71/80\n",
      "192/192 [==============================] - 3s 15ms/step - loss: 0.1978 - accuracy: 0.9110\n",
      "Epoch 72/80\n",
      "192/192 [==============================] - 3s 15ms/step - loss: 0.1919 - accuracy: 0.9171\n",
      "Epoch 73/80\n",
      "192/192 [==============================] - 3s 14ms/step - loss: 0.1954 - accuracy: 0.9153\n",
      "Epoch 74/80\n",
      "192/192 [==============================] - 3s 15ms/step - loss: 0.1870 - accuracy: 0.9207\n",
      "Epoch 75/80\n",
      "192/192 [==============================] - 3s 14ms/step - loss: 0.1956 - accuracy: 0.9146\n",
      "Epoch 76/80\n",
      "192/192 [==============================] - 3s 15ms/step - loss: 0.1824 - accuracy: 0.9228\n",
      "Epoch 77/80\n",
      "192/192 [==============================] - 3s 14ms/step - loss: 0.1754 - accuracy: 0.9264\n",
      "Epoch 78/80\n",
      "192/192 [==============================] - 3s 14ms/step - loss: 0.1818 - accuracy: 0.9220\n",
      "Epoch 79/80\n",
      "192/192 [==============================] - 3s 15ms/step - loss: 0.1741 - accuracy: 0.9249\n",
      "Epoch 80/80\n",
      "192/192 [==============================] - 3s 14ms/step - loss: 0.1719 - accuracy: 0.9280\n"
     ]
    }
   ],
   "source": [
    "# Train the model\n",
    "fit_model = nn_model.fit(X_train_scaled, y_train, epochs=80)"
   ]
  },
  {
   "cell_type": "code",
   "execution_count": 16,
   "metadata": {},
   "outputs": [
    {
     "name": "stdout",
     "output_type": "stream",
     "text": [
      "48/48 - 2s - loss: 0.7265 - accuracy: 0.7428 - 2s/epoch - 42ms/step\n",
      "Loss: 0.7265289425849915, Accuracy: 0.7428198456764221\n"
     ]
    }
   ],
   "source": [
    "# Evaluate the model using the training data \n",
    "# Make sure you evaluate the scaled data\n",
    "model_loss, model_accuracy = nn_model.evaluate(X_test_scaled, y_test, verbose=2)\n",
    "print(f\"Loss: {model_loss}, Accuracy: {model_accuracy}\")"
   ]
  },
  {
   "cell_type": "code",
   "execution_count": 17,
   "metadata": {},
   "outputs": [],
   "source": [
    "#Save model\n",
    "# nn_model.save('Draft_model3.h5')"
   ]
  },
  {
   "cell_type": "code",
   "execution_count": null,
   "metadata": {},
   "outputs": [],
   "source": []
  }
 ],
 "metadata": {
  "kernelspec": {
   "display_name": "EdX",
   "language": "python",
   "name": "python3"
  },
  "language_info": {
   "codemirror_mode": {
    "name": "ipython",
    "version": 3
   },
   "file_extension": ".py",
   "mimetype": "text/x-python",
   "name": "python",
   "nbconvert_exporter": "python",
   "pygments_lexer": "ipython3",
   "version": "3.10.11"
  }
 },
 "nbformat": 4,
 "nbformat_minor": 2
}
