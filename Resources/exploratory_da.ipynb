{
 "cells": [
  {
   "cell_type": "code",
   "execution_count": 55,
   "metadata": {},
   "outputs": [],
   "source": [
    "import os\n",
    "import pandas as pd\n",
    "import zipfile\n",
    "import sqlite3"
   ]
  },
  {
   "cell_type": "markdown",
   "metadata": {},
   "source": [
    "### __Download kaggle.com datasets__\n",
    "---  \n",
    "\n",
    "<b>NFL Draft dataset</b>  \n",
    "<b>Download:</b> Download NFL draft data from Kaggle using the following statement in terminal <em>-d ulrikthygepedersen/nfl-draft-1985-2015</em>  \n",
    "\n",
    "<b>NFL Combine dataset</b>  \n",
    "<b>Download:</b> Download NFL combine data Kaggle using the following statement in terminal <em>-d mitchellweg1/nfl-combine-results-dataset-2000-2022</em>\n"
   ]
  },
  {
   "cell_type": "markdown",
   "metadata": {},
   "source": [
    "### __Read datasets into dataframes__\n",
    "---"
   ]
  },
  {
   "cell_type": "code",
   "execution_count": 56,
   "metadata": {},
   "outputs": [],
   "source": [
    "\n",
    "# Extract NFL draft zip file\n",
    "cur_folder = 'C:\\\\Bootcamp_Git\\\\project_4_healthcare\\\\NFL_data'\n",
    "input_path = os.path.join(cur_folder, 'nfl-draft-1985-2015.zip')\n",
    "with zipfile.ZipFile(input_path, 'r') as zip_ref:\n",
    "    names = zip_ref.namelist()\n",
    "    zip_ref.extractall(cur_folder)\n",
    "\n",
    "#  Read into pandas dataframe and delete zip extract\n",
    "zip_extract = os.path.join(cur_folder, names[0])\n",
    "nfl_df = pd.read_csv(zip_extract)\n",
    "os.remove(zip_extract)\n",
    "\n",
    "# ---Step 3: extract combine data---\n",
    "input_path = os.path.join(cur_folder, 'nfl-combine-results-dataset-2000-2022.zip')\n",
    "with zipfile.ZipFile(input_path, 'r') as zip_ref:\n",
    "    names = zip_ref.namelist()\n",
    "    zip_ref.extractall(cur_folder)\n",
    "\n",
    "# Read into pandas dataframe and delete zip extract\n",
    "combine_df = pd.DataFrame()\n",
    "for name in names:\n",
    "    zip_extract = os.path.join(cur_folder, name)\n",
    "    combine_files_df = pd.read_csv(zip_extract)\n",
    "    combine_files_df['year'] = name[:4]\n",
    "    combine_df = pd.concat([combine_df, combine_files_df], ignore_index=True)\n",
    "    os.remove(zip_extract)\n"
   ]
  },
  {
   "cell_type": "markdown",
   "metadata": {},
   "source": [
    "### __Remove columns__\n",
    "---  \n",
    "<b>NFL Draft:</b>  \n",
    "<ol>\n",
    "<li><b>Removed:</b> column_a, player_id, and year because they are unique to this dataset and will not be used in model.</li>  \n",
    "<li><b>Removed:</b> the following columns because they refer to NFL stats after the player was drafted.  \n",
    "tm, hof, position_standard, first4av, age, to, ap1, pb, st, carav, drav, g, cmp, pass_att, pass_yds, pass_td, pass_int, rush_att, rush_yds, rush_tds, rec, rec_yds, rec_tds, tkl, def_int, and sk.</li></ol>  \n",
    "  \n",
    "\n",
    "<b>NFL Combine:</b>  \n",
    "<ol>\n",
    "<li><b>Removed:</b> All fields will be used.</li></ol>"
   ]
  },
  {
   "cell_type": "code",
   "execution_count": 57,
   "metadata": {},
   "outputs": [
    {
     "data": {
      "text/html": [
       "<div>\n",
       "<style scoped>\n",
       "    .dataframe tbody tr th:only-of-type {\n",
       "        vertical-align: middle;\n",
       "    }\n",
       "\n",
       "    .dataframe tbody tr th {\n",
       "        vertical-align: top;\n",
       "    }\n",
       "\n",
       "    .dataframe thead th {\n",
       "        text-align: right;\n",
       "    }\n",
       "</style>\n",
       "<table border=\"1\" class=\"dataframe\">\n",
       "  <thead>\n",
       "    <tr style=\"text-align: right;\">\n",
       "      <th></th>\n",
       "      <th>player</th>\n",
       "      <th>year</th>\n",
       "      <th>pos</th>\n",
       "      <th>rnd</th>\n",
       "      <th>pick</th>\n",
       "      <th>college_univ</th>\n",
       "    </tr>\n",
       "  </thead>\n",
       "  <tbody>\n",
       "    <tr>\n",
       "      <th>0</th>\n",
       "      <td>Jameis Winston</td>\n",
       "      <td>2015</td>\n",
       "      <td>QB</td>\n",
       "      <td>1</td>\n",
       "      <td>1</td>\n",
       "      <td>Florida St.</td>\n",
       "    </tr>\n",
       "    <tr>\n",
       "      <th>1</th>\n",
       "      <td>Marcus Mariota</td>\n",
       "      <td>2015</td>\n",
       "      <td>QB</td>\n",
       "      <td>1</td>\n",
       "      <td>2</td>\n",
       "      <td>Oregon</td>\n",
       "    </tr>\n",
       "    <tr>\n",
       "      <th>2</th>\n",
       "      <td>Dante Fowler</td>\n",
       "      <td>2015</td>\n",
       "      <td>OLB</td>\n",
       "      <td>1</td>\n",
       "      <td>3</td>\n",
       "      <td>Florida</td>\n",
       "    </tr>\n",
       "    <tr>\n",
       "      <th>3</th>\n",
       "      <td>Amari Cooper</td>\n",
       "      <td>2015</td>\n",
       "      <td>WR</td>\n",
       "      <td>1</td>\n",
       "      <td>4</td>\n",
       "      <td>Alabama</td>\n",
       "    </tr>\n",
       "    <tr>\n",
       "      <th>4</th>\n",
       "      <td>Brandon Scherff</td>\n",
       "      <td>2015</td>\n",
       "      <td>T</td>\n",
       "      <td>1</td>\n",
       "      <td>5</td>\n",
       "      <td>Iowa</td>\n",
       "    </tr>\n",
       "  </tbody>\n",
       "</table>\n",
       "</div>"
      ],
      "text/plain": [
       "            player  year  pos  rnd  pick college_univ\n",
       "0   Jameis Winston  2015   QB    1     1  Florida St.\n",
       "1   Marcus Mariota  2015   QB    1     2       Oregon\n",
       "2     Dante Fowler  2015  OLB    1     3      Florida\n",
       "3     Amari Cooper  2015   WR    1     4      Alabama\n",
       "4  Brandon Scherff  2015    T    1     5         Iowa"
      ]
     },
     "execution_count": 57,
     "metadata": {},
     "output_type": "execute_result"
    }
   ],
   "source": [
    "# Remove NFL draft columns\n",
    "nfl_df = nfl_df[['player', 'year', 'pos', 'rnd', 'pick', 'college_univ']]\n",
    "nfl_df.head()"
   ]
  },
  {
   "cell_type": "markdown",
   "metadata": {},
   "source": [
    "### __Exploratory Analysis__\n",
    "---"
   ]
  },
  {
   "cell_type": "code",
   "execution_count": 58,
   "metadata": {},
   "outputs": [
    {
     "name": "stdout",
     "output_type": "stream",
     "text": [
      "NFL draft dataframe shape: (8435, 6)\n",
      "NFL combine dataframe shape: (7680, 12)\n"
     ]
    }
   ],
   "source": [
    "# Shape of dataframes\n",
    "print(f'NFL draft dataframe shape: {nfl_df.shape}')\n",
    "print(f'NFL combine dataframe shape: {combine_df.shape}')"
   ]
  },
  {
   "cell_type": "code",
   "execution_count": 59,
   "metadata": {},
   "outputs": [
    {
     "name": "stdout",
     "output_type": "stream",
     "text": [
      "NFL draft dataframe columns by type:\n",
      "object    3\n",
      "int64     3\n",
      "Name: count, dtype: int64\n",
      "\n",
      "NFL combine dataframe columns by type:\n",
      "float64    7\n",
      "object     5\n",
      "Name: count, dtype: int64\n"
     ]
    }
   ],
   "source": [
    "# Number of columns by data type\n",
    "print(f'NFL draft dataframe columns by type:\\n{nfl_df.dtypes.value_counts()}\\n')\n",
    "print(f'NFL combine dataframe columns by type:\\n{combine_df.dtypes.value_counts()}')"
   ]
  },
  {
   "cell_type": "code",
   "execution_count": 60,
   "metadata": {},
   "outputs": [
    {
     "name": "stdout",
     "output_type": "stream",
     "text": [
      "NFL draft dataframe null values:\n",
      "\n",
      "<class 'pandas.core.frame.DataFrame'>\n",
      "RangeIndex: 8435 entries, 0 to 8434\n",
      "Data columns (total 6 columns):\n",
      " #   Column        Non-Null Count  Dtype \n",
      "---  ------        --------------  ----- \n",
      " 0   player        8435 non-null   object\n",
      " 1   year          8435 non-null   int64 \n",
      " 2   pos           8435 non-null   object\n",
      " 3   rnd           8435 non-null   int64 \n",
      " 4   pick          8435 non-null   int64 \n",
      " 5   college_univ  5005 non-null   object\n",
      "dtypes: int64(3), object(3)\n",
      "memory usage: 395.5+ KB\n"
     ]
    }
   ],
   "source": [
    "# Check for null values\n",
    "print(f'NFL draft dataframe null values:\\n')\n",
    "nfl_df.info()"
   ]
  },
  {
   "cell_type": "code",
   "execution_count": 61,
   "metadata": {},
   "outputs": [
    {
     "name": "stdout",
     "output_type": "stream",
     "text": [
      "NFL combine dataframe null values:\n",
      "\n",
      "<class 'pandas.core.frame.DataFrame'>\n",
      "RangeIndex: 7680 entries, 0 to 7679\n",
      "Data columns (total 12 columns):\n",
      " #   Column      Non-Null Count  Dtype  \n",
      "---  ------      --------------  -----  \n",
      " 0   Player      7680 non-null   object \n",
      " 1   Pos         7680 non-null   object \n",
      " 2   School      7680 non-null   object \n",
      " 3   Ht          7651 non-null   object \n",
      " 4   Wt          7656 non-null   float64\n",
      " 5   40yd        7206 non-null   float64\n",
      " 6   Vertical    5932 non-null   float64\n",
      " 7   Bench       5096 non-null   float64\n",
      " 8   Broad Jump  5859 non-null   float64\n",
      " 9   3Cone       4792 non-null   float64\n",
      " 10  Shuttle     4895 non-null   float64\n",
      " 11  year        7680 non-null   object \n",
      "dtypes: float64(7), object(5)\n",
      "memory usage: 720.1+ KB\n"
     ]
    }
   ],
   "source": [
    "# Check for null values\n",
    "print(f'NFL combine dataframe null values:\\n')\n",
    "combine_df.info()"
   ]
  },
  {
   "cell_type": "code",
   "execution_count": 62,
   "metadata": {},
   "outputs": [],
   "source": [
    "# Remove players with NaN college_univ in NFL draft dataframe\n",
    "nfl_df = nfl_df.dropna(subset=['college_univ'])"
   ]
  },
  {
   "cell_type": "code",
   "execution_count": 63,
   "metadata": {},
   "outputs": [],
   "source": [
    "# Create player id column to merge dataframes\n",
    "# Add player_id column to dataframe year + 4 character last name + 4 character first name because of same name for different players\n",
    "nfl_df['player_id'] = nfl_df['year'].astype(str) + nfl_df['player'].str.split(' ').str[1].str.upper() + nfl_df['player'].str.split(' ').str[0].str.upper() + nfl_df['college_univ'].str[:3].str.upper()\n",
    "combine_df['player_id'] = combine_df['year'].astype(str) + combine_df['Player'].str.split(' ').str[1].str.upper() + combine_df['Player'].str.split(' ').str[0].str.upper()  + combine_df['School'].str[:3].str.upper()"
   ]
  },
  {
   "cell_type": "code",
   "execution_count": 64,
   "metadata": {},
   "outputs": [
    {
     "name": "stdout",
     "output_type": "stream",
     "text": [
      "NFL draft dataframe duplicate player ids: 1\n",
      "NFL combine dataframe duplicate player ids: 2\n"
     ]
    }
   ],
   "source": [
    "# Check for duplicate player ids\n",
    "print(f'NFL draft dataframe duplicate player ids: {nfl_df[\"player_id\"].duplicated().sum()}')\n",
    "print(f'NFL combine dataframe duplicate player ids: {combine_df[\"player_id\"].duplicated().sum()}')"
   ]
  },
  {
   "cell_type": "code",
   "execution_count": 65,
   "metadata": {},
   "outputs": [
    {
     "name": "stdout",
     "output_type": "stream",
     "text": [
      "NFL draft dataframe duplicate player ids:\n",
      "\n"
     ]
    },
    {
     "data": {
      "text/html": [
       "<div>\n",
       "<style scoped>\n",
       "    .dataframe tbody tr th:only-of-type {\n",
       "        vertical-align: middle;\n",
       "    }\n",
       "\n",
       "    .dataframe tbody tr th {\n",
       "        vertical-align: top;\n",
       "    }\n",
       "\n",
       "    .dataframe thead th {\n",
       "        text-align: right;\n",
       "    }\n",
       "</style>\n",
       "<table border=\"1\" class=\"dataframe\">\n",
       "  <thead>\n",
       "    <tr style=\"text-align: right;\">\n",
       "      <th></th>\n",
       "      <th>player</th>\n",
       "      <th>year</th>\n",
       "      <th>pos</th>\n",
       "      <th>rnd</th>\n",
       "      <th>pick</th>\n",
       "      <th>college_univ</th>\n",
       "      <th>player_id</th>\n",
       "    </tr>\n",
       "  </thead>\n",
       "  <tbody>\n",
       "    <tr>\n",
       "      <th>968</th>\n",
       "      <td>Robert Griffin</td>\n",
       "      <td>2012</td>\n",
       "      <td>OL</td>\n",
       "      <td>6</td>\n",
       "      <td>203</td>\n",
       "      <td>Baylor</td>\n",
       "      <td>2012GRIFFINROBERTBAY</td>\n",
       "    </tr>\n",
       "  </tbody>\n",
       "</table>\n",
       "</div>"
      ],
      "text/plain": [
       "             player  year pos  rnd  pick college_univ             player_id\n",
       "968  Robert Griffin  2012  OL    6   203       Baylor  2012GRIFFINROBERTBAY"
      ]
     },
     "execution_count": 65,
     "metadata": {},
     "output_type": "execute_result"
    }
   ],
   "source": [
    "# View duplicate player ids\n",
    "print(f'NFL draft dataframe duplicate player ids:\\n')\n",
    "nfl_df[nfl_df[\"player_id\"].duplicated()]"
   ]
  },
  {
   "cell_type": "code",
   "execution_count": 66,
   "metadata": {},
   "outputs": [
    {
     "name": "stdout",
     "output_type": "stream",
     "text": [
      "NFL combine dataframe duplicate player ids:\n",
      "\n"
     ]
    },
    {
     "data": {
      "text/html": [
       "<div>\n",
       "<style scoped>\n",
       "    .dataframe tbody tr th:only-of-type {\n",
       "        vertical-align: middle;\n",
       "    }\n",
       "\n",
       "    .dataframe tbody tr th {\n",
       "        vertical-align: top;\n",
       "    }\n",
       "\n",
       "    .dataframe thead th {\n",
       "        text-align: right;\n",
       "    }\n",
       "</style>\n",
       "<table border=\"1\" class=\"dataframe\">\n",
       "  <thead>\n",
       "    <tr style=\"text-align: right;\">\n",
       "      <th></th>\n",
       "      <th>Player</th>\n",
       "      <th>Pos</th>\n",
       "      <th>School</th>\n",
       "      <th>Ht</th>\n",
       "      <th>Wt</th>\n",
       "      <th>40yd</th>\n",
       "      <th>Vertical</th>\n",
       "      <th>Bench</th>\n",
       "      <th>Broad Jump</th>\n",
       "      <th>3Cone</th>\n",
       "      <th>Shuttle</th>\n",
       "      <th>year</th>\n",
       "      <th>player_id</th>\n",
       "    </tr>\n",
       "  </thead>\n",
       "  <tbody>\n",
       "    <tr>\n",
       "      <th>1784</th>\n",
       "      <td>Derrick Johnson</td>\n",
       "      <td>OLB</td>\n",
       "      <td>Texas</td>\n",
       "      <td>6-3</td>\n",
       "      <td>242.0</td>\n",
       "      <td>4.52</td>\n",
       "      <td>37.5</td>\n",
       "      <td>NaN</td>\n",
       "      <td>120.0</td>\n",
       "      <td>7.20</td>\n",
       "      <td>3.87</td>\n",
       "      <td>2005</td>\n",
       "      <td>2005JOHNSONDERRICKTEX</td>\n",
       "    </tr>\n",
       "    <tr>\n",
       "      <th>2352</th>\n",
       "      <td>Buster Davis</td>\n",
       "      <td>ILB</td>\n",
       "      <td>Florida State</td>\n",
       "      <td>5-9</td>\n",
       "      <td>239.0</td>\n",
       "      <td>4.64</td>\n",
       "      <td>31.0</td>\n",
       "      <td>24.0</td>\n",
       "      <td>104.0</td>\n",
       "      <td>7.28</td>\n",
       "      <td>4.37</td>\n",
       "      <td>2007</td>\n",
       "      <td>2007DAVISBUSTERFLO</td>\n",
       "    </tr>\n",
       "  </tbody>\n",
       "</table>\n",
       "</div>"
      ],
      "text/plain": [
       "               Player  Pos         School   Ht     Wt  40yd  Vertical  Bench  \\\n",
       "1784  Derrick Johnson  OLB          Texas  6-3  242.0  4.52      37.5    NaN   \n",
       "2352     Buster Davis  ILB  Florida State  5-9  239.0  4.64      31.0   24.0   \n",
       "\n",
       "      Broad Jump  3Cone  Shuttle  year              player_id  \n",
       "1784       120.0   7.20     3.87  2005  2005JOHNSONDERRICKTEX  \n",
       "2352       104.0   7.28     4.37  2007     2007DAVISBUSTERFLO  "
      ]
     },
     "execution_count": 66,
     "metadata": {},
     "output_type": "execute_result"
    }
   ],
   "source": [
    "# View duplicate player ids\n",
    "print(f'NFL combine dataframe duplicate player ids:\\n')\n",
    "combine_df[combine_df[\"player_id\"].duplicated()]"
   ]
  },
  {
   "cell_type": "code",
   "execution_count": 67,
   "metadata": {},
   "outputs": [],
   "source": [
    "# drop records where player_id = '2012GRIFFINROBERTBAY' and pos = 'OL'\n",
    "nfl_drop_index = nfl_df.loc[(nfl_df['player_id'] == '2012GRIFFINROBERTBAY') & (nfl_df['pos'] == 'OL')].index\n",
    "nfl_df.drop(nfl_drop_index, inplace=True)\n",
    "\n",
    "# drop records where player_id = '2007DAVISBUSTERFLO' and pos = 'WR'\n",
    "combine_drop_index = combine_df.loc[(combine_df['player_id'] == '2007DAVISBUSTERFLO') & (combine_df['Pos'] == 'WR')].index\n",
    "combine_df.drop(combine_drop_index, inplace=True)\n",
    "\n",
    "# drop records where player_id = '2005JOHNSONDERRICKTEX' and pos = 'CB'\n",
    "combine_drop_index = combine_df.loc[(combine_df['player_id'] == '2005JOHNSONDERRICKTEX') & (combine_df['Pos'] == 'CB')].index\n",
    "combine_df.drop(combine_drop_index, inplace=True)"
   ]
  },
  {
   "cell_type": "code",
   "execution_count": 68,
   "metadata": {},
   "outputs": [
    {
     "name": "stdout",
     "output_type": "stream",
     "text": [
      "NFL draft dataframe duplicate player ids:\n",
      "\n"
     ]
    },
    {
     "data": {
      "text/html": [
       "<div>\n",
       "<style scoped>\n",
       "    .dataframe tbody tr th:only-of-type {\n",
       "        vertical-align: middle;\n",
       "    }\n",
       "\n",
       "    .dataframe tbody tr th {\n",
       "        vertical-align: top;\n",
       "    }\n",
       "\n",
       "    .dataframe thead th {\n",
       "        text-align: right;\n",
       "    }\n",
       "</style>\n",
       "<table border=\"1\" class=\"dataframe\">\n",
       "  <thead>\n",
       "    <tr style=\"text-align: right;\">\n",
       "      <th></th>\n",
       "      <th>player</th>\n",
       "      <th>year</th>\n",
       "      <th>pos</th>\n",
       "      <th>rnd</th>\n",
       "      <th>pick</th>\n",
       "      <th>college_univ</th>\n",
       "      <th>player_id</th>\n",
       "    </tr>\n",
       "  </thead>\n",
       "  <tbody>\n",
       "  </tbody>\n",
       "</table>\n",
       "</div>"
      ],
      "text/plain": [
       "Empty DataFrame\n",
       "Columns: [player, year, pos, rnd, pick, college_univ, player_id]\n",
       "Index: []"
      ]
     },
     "execution_count": 68,
     "metadata": {},
     "output_type": "execute_result"
    }
   ],
   "source": [
    "# View duplicate player ids\n",
    "print(f'NFL draft dataframe duplicate player ids:\\n')\n",
    "nfl_df[nfl_df[\"player_id\"].duplicated()]"
   ]
  },
  {
   "cell_type": "code",
   "execution_count": 69,
   "metadata": {},
   "outputs": [
    {
     "name": "stdout",
     "output_type": "stream",
     "text": [
      "NFL combine dataframe duplicate player ids:\n",
      "\n"
     ]
    },
    {
     "data": {
      "text/html": [
       "<div>\n",
       "<style scoped>\n",
       "    .dataframe tbody tr th:only-of-type {\n",
       "        vertical-align: middle;\n",
       "    }\n",
       "\n",
       "    .dataframe tbody tr th {\n",
       "        vertical-align: top;\n",
       "    }\n",
       "\n",
       "    .dataframe thead th {\n",
       "        text-align: right;\n",
       "    }\n",
       "</style>\n",
       "<table border=\"1\" class=\"dataframe\">\n",
       "  <thead>\n",
       "    <tr style=\"text-align: right;\">\n",
       "      <th></th>\n",
       "      <th>Player</th>\n",
       "      <th>Pos</th>\n",
       "      <th>School</th>\n",
       "      <th>Ht</th>\n",
       "      <th>Wt</th>\n",
       "      <th>40yd</th>\n",
       "      <th>Vertical</th>\n",
       "      <th>Bench</th>\n",
       "      <th>Broad Jump</th>\n",
       "      <th>3Cone</th>\n",
       "      <th>Shuttle</th>\n",
       "      <th>year</th>\n",
       "      <th>player_id</th>\n",
       "    </tr>\n",
       "  </thead>\n",
       "  <tbody>\n",
       "  </tbody>\n",
       "</table>\n",
       "</div>"
      ],
      "text/plain": [
       "Empty DataFrame\n",
       "Columns: [Player, Pos, School, Ht, Wt, 40yd, Vertical, Bench, Broad Jump, 3Cone, Shuttle, year, player_id]\n",
       "Index: []"
      ]
     },
     "execution_count": 69,
     "metadata": {},
     "output_type": "execute_result"
    }
   ],
   "source": [
    "# View duplicate player ids\n",
    "print(f'NFL combine dataframe duplicate player ids:\\n')\n",
    "combine_df[combine_df[\"player_id\"].duplicated()]"
   ]
  },
  {
   "cell_type": "code",
   "execution_count": 70,
   "metadata": {},
   "outputs": [],
   "source": [
    "# Merge dataframes on player_id\n",
    "draft_df = combine_df.merge(nfl_df, on=['player_id'], how='left')"
   ]
  },
  {
   "cell_type": "code",
   "execution_count": 71,
   "metadata": {},
   "outputs": [
    {
     "name": "stdout",
     "output_type": "stream",
     "text": [
      "NFL draft dataframe column names:\n",
      "\n"
     ]
    },
    {
     "data": {
      "text/plain": [
       "Index(['Player', 'Pos', 'School', 'Ht', 'Wt', '40yd', 'Vertical', 'Bench',\n",
       "       'Broad Jump', '3Cone', 'Shuttle', 'year_x', 'player_id', 'player',\n",
       "       'year_y', 'pos', 'rnd', 'pick', 'college_univ'],\n",
       "      dtype='object')"
      ]
     },
     "execution_count": 71,
     "metadata": {},
     "output_type": "execute_result"
    }
   ],
   "source": [
    "# Check column names\n",
    "print(f'NFL draft dataframe column names:\\n')\n",
    "draft_df.columns"
   ]
  },
  {
   "cell_type": "code",
   "execution_count": 72,
   "metadata": {},
   "outputs": [],
   "source": [
    "# Drop duplicate columns\n",
    "draft_df.drop(['player', 'year_y', 'pos', 'college_univ'], axis=1, inplace=True)"
   ]
  },
  {
   "cell_type": "code",
   "execution_count": 73,
   "metadata": {},
   "outputs": [],
   "source": [
    "# Rename fields\n",
    "draft_df.rename(columns={'Player': 'player_name', 'Pos': 'position', 'School': 'school', 'Ht': 'height', 'year_x': 'year', 'Wt': 'weight', '40yd': 'forty_yard',\n",
    "                         'Vertical': 'vertical_leap', 'Bench': 'bench_press', 'Broad Jump': 'broad_jump', 'Shuttle': 'shuttle_run',\n",
    "                         '3Cone': 'three_cone', 'rnd': 'draft_round', 'pick': 'draft_pick'}, inplace=True)\n"
   ]
  },
  {
   "cell_type": "code",
   "execution_count": 74,
   "metadata": {},
   "outputs": [],
   "source": [
    "# Add column ht for height in inches\n",
    "draft_df[['ht', 'in']] = draft_df['height'].str.split('-', expand=True)\n",
    "draft_df['in'].fillna(0, inplace=True)\n",
    "draft_df['ht'].fillna(0, inplace=True)\n",
    "draft_df['ht'] = draft_df['ht'].astype(int) * 12\n",
    "draft_df['ht'] = draft_df['ht'] + draft_df['in'].astype(int)\n",
    "draft_df.drop(['in'], axis=1, inplace=True)"
   ]
  },
  {
   "cell_type": "code",
   "execution_count": 75,
   "metadata": {},
   "outputs": [],
   "source": [
    "# Replace '-' with ' ft ' in 'Ht' column and add ' in' to end of 'Ht' column for Tableau dashboard\n",
    "draft_df['height'] = draft_df['height'].str.replace('-', ' ft ')\n",
    "draft_df['height'] = draft_df['height'] + ' in'"
   ]
  },
  {
   "cell_type": "code",
   "execution_count": 76,
   "metadata": {},
   "outputs": [],
   "source": [
    "# Drop players with NaN in following columns forty_yard, vertical_leap, bench_press, broad_jump, three_cone, and shuttle_run\n",
    "draft_df.dropna(subset=['forty_yard', 'vertical_leap', 'bench_press', 'broad_jump', 'three_cone', 'shuttle_run'], inplace=True, how='all')"
   ]
  },
  {
   "cell_type": "code",
   "execution_count": 77,
   "metadata": {},
   "outputs": [],
   "source": [
    "# Convert year to int\n",
    "draft_df['year'] = draft_df['year'].astype(int)"
   ]
  },
  {
   "cell_type": "code",
   "execution_count": 78,
   "metadata": {},
   "outputs": [],
   "source": [
    "# Limit to years 2000-2015\n",
    "draft_df = draft_df.loc[(draft_df['year'] >= 2000) & (draft_df['year'] <= 2015)]"
   ]
  },
  {
   "cell_type": "markdown",
   "metadata": {},
   "source": [
    "### __Ranking__\n",
    "---  \n",
    "Create score columns for combine events where if >= 3rd quartile = 4 elseif >= median elseif >=  1st quartile = 2 else = 1 and NaN = 0.  \n",
    "The points will flip for running events because the lower score is better."
   ]
  },
  {
   "cell_type": "code",
   "execution_count": 79,
   "metadata": {},
   "outputs": [],
   "source": [
    "# create list of positions\n",
    "pos_list = ['C', 'CB', 'DE', 'DT', 'FB', 'ILB', 'K', 'LS', 'OG', 'OLB', 'OT', 'P', 'QB', 'RB', 'S', 'TE', 'WR']"
   ]
  },
  {
   "cell_type": "code",
   "execution_count": 80,
   "metadata": {},
   "outputs": [],
   "source": [
    "# add column for bench_press if >= 3rd quartile = 4 elseif >= median elseif >=  1st quartile = 2 else = 1 do not include NaN\n",
    "event_combined_df = pd.DataFrame()\n",
    "for pos in pos_list:\n",
    "    event_df = draft_df[(draft_df['bench_press'].notna()) & (draft_df['position'] == pos)].copy()\n",
    "    if len(event_df) == 0:\n",
    "        pass\n",
    "    else:\n",
    "        event_df['bench_press_score'] = 0\n",
    "        event_df.loc[event_df['bench_press'] >= event_df['bench_press'].quantile(.75), 'bench_press_score'] = 4\n",
    "        event_df.loc[(event_df['bench_press'] >= event_df['bench_press'].median()) & (event_df['bench_press'] < event_df['bench_press'].quantile(.75)), 'bench_press_score'] = 3\n",
    "        event_df.loc[(event_df['bench_press'] >= event_df['bench_press'].quantile(.25)) & (event_df['bench_press'] < event_df['bench_press'].median()), 'bench_press_score'] = 2\n",
    "        event_df.loc[event_df['bench_press'] < event_df['bench_press'].quantile(.25), 'bench_press_score'] = 1\n",
    "        event_combined_df = pd.concat([event_combined_df, event_df], ignore_index=True)\n",
    "\n",
    "\n",
    "draft_df = draft_df.merge(event_combined_df[['player_id', 'bench_press_score']], on=['player_id'], how='left')"
   ]
  },
  {
   "cell_type": "code",
   "execution_count": 81,
   "metadata": {},
   "outputs": [],
   "source": [
    "# add column for broad_jump if >= 3rd quartile = 4 elseif >= median elseif >=  1st quartile = 2 else = 1 do not include NaN\n",
    "event_combined_df = pd.DataFrame()\n",
    "for pos in pos_list:\n",
    "    event_df = draft_df[(draft_df['broad_jump'].notna()) & (draft_df['position'] == pos)].copy()\n",
    "    if len(event_df) == 0:\n",
    "        pass\n",
    "    else:\n",
    "        event_df['broad_jump_score'] = 0\n",
    "        event_df.loc[event_df['broad_jump'] >= event_df['broad_jump'].quantile(.75), 'broad_jump_score'] = 4\n",
    "        event_df.loc[(event_df['broad_jump'] >= event_df['broad_jump'].median()) & (event_df['broad_jump'] < event_df['broad_jump'].quantile(.75)), 'broad_jump_score'] = 3\n",
    "        event_df.loc[(event_df['broad_jump'] >= event_df['broad_jump'].quantile(.25)) & (event_df['broad_jump'] < event_df['broad_jump'].median()), 'broad_jump_score'] = 2\n",
    "        event_df.loc[event_df['broad_jump'] < event_df['broad_jump'].quantile(.25), 'broad_jump_score'] = 1\n",
    "        event_combined_df = pd.concat([event_combined_df, event_df], ignore_index=True)\n",
    "\n",
    "draft_df = draft_df.merge(event_combined_df[['player_id', 'broad_jump_score']], on=['player_id'], how='left')\n"
   ]
  },
  {
   "cell_type": "code",
   "execution_count": 82,
   "metadata": {},
   "outputs": [],
   "source": [
    "# add column for forty_yard if >= 3rd quartile = 4 elseif >= median elseif >=  1st quartile = 2 else = 1 do not include NaN\n",
    "event_combined_df = pd.DataFrame()\n",
    "for pos in pos_list:\n",
    "    event_df = draft_df[(draft_df['forty_yard'].notna()) & (draft_df['position'] == pos)].copy()\n",
    "    if len(event_df) == 0:\n",
    "        pass\n",
    "    else:\n",
    "        event_df['forty_yard_score'] = 0\n",
    "        event_df.loc[event_df['forty_yard'] <= event_df['forty_yard'].quantile(.25), 'forty_yard_score'] = 4\n",
    "        event_df.loc[(event_df['forty_yard'] <= event_df['forty_yard'].median()) & (event_df['forty_yard'] > event_df['forty_yard'].quantile(.25)), 'forty_yard_score'] = 3\n",
    "        event_df.loc[(event_df['forty_yard'] <= event_df['forty_yard'].quantile(.75)) & (event_df['forty_yard'] > event_df['forty_yard'].median()), 'forty_yard_score'] = 2\n",
    "        event_df.loc[event_df['forty_yard'] > event_df['forty_yard'].quantile(.75), 'forty_yard_score'] = 1\n",
    "        event_combined_df = pd.concat([event_combined_df, event_df], ignore_index=True)\n",
    "\n",
    "draft_df = draft_df.merge(event_combined_df[['player_id', 'forty_yard_score']], on=['player_id'], how='left')\n"
   ]
  },
  {
   "cell_type": "code",
   "execution_count": 83,
   "metadata": {},
   "outputs": [],
   "source": [
    "# add column for shuttle_run if >= 3rd quartile = 4 elseif >= median elseif >=  1st quartile = 2 else = 1 do not include NaN\n",
    "event_combined_df = pd.DataFrame()\n",
    "for pos in pos_list:\n",
    "    event_df = draft_df[(draft_df['shuttle_run'].notna()) & (draft_df['position'] == pos)].copy()\n",
    "    if len(event_df) == 0:\n",
    "        pass\n",
    "    else:\n",
    "        event_df['shuttle_run_score'] = 0\n",
    "        event_df.loc[event_df['shuttle_run'] <= event_df['shuttle_run'].quantile(.25), 'shuttle_run_score'] = 4\n",
    "        event_df.loc[(event_df['shuttle_run'] <= event_df['shuttle_run'].median()) & (event_df['shuttle_run'] > event_df['shuttle_run'].quantile(.25)), 'shuttle_run_score'] = 3\n",
    "        event_df.loc[(event_df['shuttle_run'] <= event_df['shuttle_run'].quantile(.75)) & (event_df['shuttle_run'] > event_df['shuttle_run'].median()), 'shuttle_run_score'] = 2\n",
    "        event_df.loc[event_df['shuttle_run'] > event_df['shuttle_run'].quantile(.75), 'shuttle_run_score'] = 1\n",
    "        event_combined_df = pd.concat([event_combined_df, event_df], ignore_index=True)\n",
    "\n",
    "draft_df = draft_df.merge(event_combined_df[['player_id', 'shuttle_run_score']], on=['player_id'], how='left')\n"
   ]
  },
  {
   "cell_type": "code",
   "execution_count": 84,
   "metadata": {},
   "outputs": [],
   "source": [
    "# add column for three_cone if >= 3rd quartile = 4 elseif >= median elseif >=  1st quartile = 2 else = 1 do not include NaN\n",
    "event_combined_df = pd.DataFrame()\n",
    "for pos in pos_list:\n",
    "    event_df = draft_df[(draft_df['three_cone'].notna()) & (draft_df['position'] == pos)].copy()\n",
    "    if len(event_df) == 0:\n",
    "        pass\n",
    "    else:\n",
    "        event_df['three_cone_score'] = 0\n",
    "        event_df.loc[event_df['three_cone'] <= event_df['three_cone'].quantile(.25), 'three_cone_score'] = 4\n",
    "        event_df.loc[(event_df['three_cone'] <= event_df['three_cone'].median()) & (event_df['three_cone'] > event_df['three_cone'].quantile(.25)), 'three_cone_score'] = 3\n",
    "        event_df.loc[(event_df['three_cone'] <= event_df['three_cone'].quantile(.75)) & (event_df['three_cone'] > event_df['three_cone'].median()), 'three_cone_score'] = 2\n",
    "        event_df.loc[event_df['three_cone'] > event_df['three_cone'].quantile(.75), 'three_cone_score'] = 1\n",
    "        event_combined_df = pd.concat([event_combined_df, event_df], ignore_index=True)\n",
    "\n",
    "draft_df = draft_df.merge(event_combined_df[['player_id', 'three_cone_score']], on=['player_id'], how='left')\n"
   ]
  },
  {
   "cell_type": "code",
   "execution_count": 85,
   "metadata": {},
   "outputs": [],
   "source": [
    "# add column for vertical_leap if >= 3rd quartile = 4 elseif >= median elseif >=  1st quartile = 2 else = 1 do not include NaN\n",
    "event_combined_df = pd.DataFrame()\n",
    "for pos in pos_list:\n",
    "    event_df = draft_df[(draft_df['vertical_leap'].notna()) & (draft_df['position'] == pos)].copy()\n",
    "    if len(event_df) == 0:\n",
    "        pass\n",
    "    else:\n",
    "        event_df['vertical_leap_score'] = 0\n",
    "        event_df.loc[event_df['vertical_leap'] >= event_df['vertical_leap'].quantile(.75), 'vertical_leap_score'] = 4\n",
    "        event_df.loc[(event_df['vertical_leap'] >= event_df['vertical_leap'].median()) & (event_df['vertical_leap'] < event_df['vertical_leap'].quantile(.75)), 'vertical_leap_score'] = 3\n",
    "        event_df.loc[(event_df['vertical_leap'] >= event_df['vertical_leap'].quantile(.25)) & (event_df['vertical_leap'] < event_df['vertical_leap'].median()), 'vertical_leap_score'] = 2\n",
    "        event_df.loc[event_df['vertical_leap'] < event_df['vertical_leap'].quantile(.25), 'vertical_leap_score'] = 1\n",
    "        event_combined_df = pd.concat([event_combined_df, event_df], ignore_index=True)\n",
    "\n",
    "draft_df = draft_df.merge(event_combined_df[['player_id', 'vertical_leap_score']], on=['player_id'], how='left')"
   ]
  },
  {
   "cell_type": "code",
   "execution_count": 86,
   "metadata": {},
   "outputs": [],
   "source": [
    "# fill NaN with 0 for columns bench_press_score, broad_jump_score, forty_yard_score, shuttle_run_score, three_cone_score, and vertical_leap_score\n",
    "draft_df[['bench_press_score', 'broad_jump_score', 'forty_yard_score', 'shuttle_run_score', 'three_cone_score', 'vertical_leap_score']] = draft_df[['bench_press_score', 'broad_jump_score', 'forty_yard_score', 'shuttle_run_score', 'three_cone_score', 'vertical_leap_score']].fillna(0)"
   ]
  },
  {
   "cell_type": "code",
   "execution_count": 87,
   "metadata": {},
   "outputs": [],
   "source": [
    "# add column for bench_press_score + broad_jump_score + forty_yard_score + shuttle_run_score + three_cone_score + vertical_leap_score\n",
    "draft_df['combine_score'] = draft_df['bench_press_score'] + draft_df['broad_jump_score'] + draft_df['forty_yard_score'] + draft_df['shuttle_run_score'] + draft_df['three_cone_score'] + draft_df['vertical_leap_score']"
   ]
  },
  {
   "cell_type": "code",
   "execution_count": 88,
   "metadata": {},
   "outputs": [],
   "source": [
    "# add column if draft_pick is NaN = 0 else = 1\n",
    "draft_df['draft_pick_flag'] = 0\n",
    "draft_df.loc[draft_df['draft_pick'].notna(), 'draft_pick_flag'] = 1"
   ]
  },
  {
   "cell_type": "code",
   "execution_count": 89,
   "metadata": {},
   "outputs": [],
   "source": [
    "# update draft_round to 8 if draft_pick is NaN\n",
    "draft_df.loc[draft_df['draft_pick'].isna(), 'draft_round'] = 8"
   ]
  },
  {
   "cell_type": "code",
   "execution_count": 90,
   "metadata": {},
   "outputs": [],
   "source": [
    "# update draft_pick to 999 if draft_pick is NaN\n",
    "draft_df.loc[draft_df['draft_pick'].isna(), 'draft_pick'] = 999"
   ]
  },
  {
   "cell_type": "markdown",
   "metadata": {},
   "source": [
    "### __Fillna__\n",
    "---  \n",
    "Populate combine events that have NaN with the median of the column based on player's position."
   ]
  },
  {
   "cell_type": "code",
   "execution_count": 91,
   "metadata": {},
   "outputs": [],
   "source": [
    "# for column vertical_leap, bench_press, broad_jump, shuttle_run, three_cone replace NaN with the median of the column based on position_combine and draft_pick_flag\n",
    "draft_df['vertical_leap'] = draft_df.groupby(['position', 'draft_pick_flag'])['vertical_leap'].transform(lambda x: x.fillna(x.median()))\n",
    "draft_df['bench_press'] = draft_df.groupby(['position', 'draft_pick_flag'])['bench_press'].transform(lambda x: x.fillna(x.median()))\n",
    "draft_df['broad_jump'] = draft_df.groupby(['position', 'draft_pick_flag'])['broad_jump'].transform(lambda x: x.fillna(x.median()))\n",
    "draft_df['shuttle_run'] = draft_df.groupby(['position', 'draft_pick_flag'])['shuttle_run'].transform(lambda x: x.fillna(x.median()))\n",
    "draft_df['three_cone'] = draft_df.groupby(['position', 'draft_pick_flag'])['three_cone'].transform(lambda x: x.fillna(x.median()))\n",
    "draft_df['forty_yard'] = draft_df.groupby(['position', 'draft_pick_flag'])['forty_yard'].transform(lambda x: x.fillna(x.median()))"
   ]
  },
  {
   "cell_type": "code",
   "execution_count": 92,
   "metadata": {},
   "outputs": [],
   "source": [
    "# # for column vertical_leap, broad_jump, shuttle_run and three_cone replace NaN with the median of the column because kicker and punter did not have scores\n",
    "# # to populate based on position_combine\n",
    "draft_df['shuttle_run'] = draft_df['shuttle_run'].fillna(draft_df['shuttle_run'].median())\n",
    "draft_df['three_cone'] = draft_df['three_cone'].fillna(draft_df['three_cone'].median())\n",
    "draft_df['vertical_leap'] = draft_df['vertical_leap'].fillna(draft_df['vertical_leap'].median())\n",
    "draft_df['broad_jump'] = draft_df['broad_jump'].fillna(draft_df['broad_jump'].median())"
   ]
  },
  {
   "cell_type": "code",
   "execution_count": 93,
   "metadata": {},
   "outputs": [],
   "source": [
    "# Reorder columns because Tableau is not recognizing the change in column position\n",
    "draft_df = draft_df[['player_id', 'player_name', 'year', 'school', 'position', 'height', 'ht', 'weight', 'forty_yard', 'vertical_leap', 'bench_press',\n",
    "                     'broad_jump', 'three_cone', 'shuttle_run', 'draft_round', 'draft_pick', 'bench_press_score', 'broad_jump_score', 'forty_yard_score',\n",
    "                     'shuttle_run_score', 'three_cone_score', 'vertical_leap_score', 'combine_score', 'draft_pick_flag']]"
   ]
  },
  {
   "cell_type": "code",
   "execution_count": 94,
   "metadata": {},
   "outputs": [
    {
     "name": "stdout",
     "output_type": "stream",
     "text": [
      "draft dataframe null values:\n",
      "\n",
      "<class 'pandas.core.frame.DataFrame'>\n",
      "RangeIndex: 5183 entries, 0 to 5182\n",
      "Data columns (total 24 columns):\n",
      " #   Column               Non-Null Count  Dtype  \n",
      "---  ------               --------------  -----  \n",
      " 0   player_id            5183 non-null   object \n",
      " 1   player_name          5183 non-null   object \n",
      " 2   year                 5183 non-null   int32  \n",
      " 3   school               5183 non-null   object \n",
      " 4   position             5183 non-null   object \n",
      " 5   height               5183 non-null   object \n",
      " 6   ht                   5183 non-null   int32  \n",
      " 7   weight               5183 non-null   float64\n",
      " 8   forty_yard           5183 non-null   float64\n",
      " 9   vertical_leap        5183 non-null   float64\n",
      " 10  bench_press          5183 non-null   float64\n",
      " 11  broad_jump           5183 non-null   float64\n",
      " 12  three_cone           5183 non-null   float64\n",
      " 13  shuttle_run          5183 non-null   float64\n",
      " 14  draft_round          5183 non-null   float64\n",
      " 15  draft_pick           5183 non-null   float64\n",
      " 16  bench_press_score    5183 non-null   float64\n",
      " 17  broad_jump_score     5183 non-null   float64\n",
      " 18  forty_yard_score     5183 non-null   float64\n",
      " 19  shuttle_run_score    5183 non-null   float64\n",
      " 20  three_cone_score     5183 non-null   float64\n",
      " 21  vertical_leap_score  5183 non-null   float64\n",
      " 22  combine_score        5183 non-null   float64\n",
      " 23  draft_pick_flag      5183 non-null   int64  \n",
      "dtypes: float64(16), int32(2), int64(1), object(5)\n",
      "memory usage: 931.4+ KB\n"
     ]
    }
   ],
   "source": [
    "# Check for null values\n",
    "print(f'draft dataframe null values:\\n')\n",
    "draft_df.info()"
   ]
  },
  {
   "cell_type": "markdown",
   "metadata": {},
   "source": [
    "### __Database__\n",
    "---  \n",
    "Create SQLite database and write draft_df to players table."
   ]
  },
  {
   "cell_type": "code",
   "execution_count": 95,
   "metadata": {},
   "outputs": [],
   "source": [
    "\n",
    "# write df to sqlite\n",
    "conn = sqlite3.connect('C:/Project_Git/project_4_fantasy_football/Resources/database.db')\n",
    "draft_df.to_sql('players', conn, if_exists='replace', index=False)\n",
    "conn.close()"
   ]
  },
  {
   "cell_type": "code",
   "execution_count": 96,
   "metadata": {},
   "outputs": [
    {
     "name": "stdout",
     "output_type": "stream",
     "text": [
      "[(5183,)]\n"
     ]
    }
   ],
   "source": [
    "# confirm data was written to sqlite\n",
    "conn = sqlite3.connect('C:/Project_Git/project_4_fantasy_football/Resources/database.db')\n",
    "cursor = conn.cursor()\n",
    "cursor.execute(\"SELECT count(*) FROM players\")\n",
    "print(cursor.fetchall())\n",
    "conn.close()"
   ]
  },
  {
   "cell_type": "code",
   "execution_count": 97,
   "metadata": {},
   "outputs": [],
   "source": [
    "# write draft_df to csv\n",
    "draft_df.to_csv('C:/Project_Git/project_4_fantasy_football/Resources/tableau_data.csv', index=False)"
   ]
  },
  {
   "cell_type": "markdown",
   "metadata": {},
   "source": [
    "### __RAW data__\n",
    "---  \n",
    "The team requested I add a table to database with raw data. All columns no transformation."
   ]
  },
  {
   "cell_type": "code",
   "execution_count": 98,
   "metadata": {},
   "outputs": [],
   "source": [
    "\n",
    "# Extract NFL draft zip file\n",
    "cur_folder = 'C:\\\\Bootcamp_Git\\\\project_4_healthcare\\\\NFL_data'\n",
    "input_path = os.path.join(cur_folder, 'nfl-draft-1985-2015.zip')\n",
    "with zipfile.ZipFile(input_path, 'r') as zip_ref:\n",
    "    names = zip_ref.namelist()\n",
    "    zip_ref.extractall(cur_folder)\n",
    "\n",
    "#  Read into pandas dataframe and delete zip extract\n",
    "zip_extract = os.path.join(cur_folder, names[0])\n",
    "nfl_df = pd.read_csv(zip_extract)\n",
    "os.remove(zip_extract)\n",
    "\n",
    "# ---Step 3: extract combine data---\n",
    "input_path = os.path.join(cur_folder, 'nfl-combine-results-dataset-2000-2022.zip')\n",
    "with zipfile.ZipFile(input_path, 'r') as zip_ref:\n",
    "    names = zip_ref.namelist()\n",
    "    zip_ref.extractall(cur_folder)\n",
    "\n",
    "# Read into pandas dataframe and delete zip extract\n",
    "combine_df = pd.DataFrame()\n",
    "for name in names:\n",
    "    zip_extract = os.path.join(cur_folder, name)\n",
    "    combine_files_df = pd.read_csv(zip_extract)\n",
    "    combine_files_df['year'] = name[:4]\n",
    "    combine_df = pd.concat([combine_df, combine_files_df], ignore_index=True)\n",
    "    os.remove(zip_extract)"
   ]
  },
  {
   "cell_type": "code",
   "execution_count": 99,
   "metadata": {},
   "outputs": [],
   "source": [
    "# Create player id column to merge dataframes\n",
    "# Add player_id column to dataframe year + 4 character last name + 4 character first name because of same name for different players\n",
    "nfl_df['player_id'] = nfl_df['year'].astype(str) + nfl_df['player'].str.split(' ').str[1].str.upper() + nfl_df['player'].str.split(' ').str[0].str.upper() + nfl_df['college_univ'].str[:3].str.upper()\n",
    "combine_df['player_id'] = combine_df['year'].astype(str) + combine_df['Player'].str.split(' ').str[1].str.upper() + combine_df['Player'].str.split(' ').str[0].str.upper()  + combine_df['School'].str[:3].str.upper()"
   ]
  },
  {
   "cell_type": "code",
   "execution_count": 100,
   "metadata": {},
   "outputs": [],
   "source": [
    "# drop records where player_id = '2012GRIFFINROBERTBAY' and pos = 'OL'\n",
    "nfl_drop_index = nfl_df.loc[(nfl_df['player_id'] == '2012GRIFFINROBERTBAY') & (nfl_df['pos'] == 'OL')].index\n",
    "nfl_df.drop(nfl_drop_index, inplace=True)\n",
    "\n",
    "# drop records where player_id = '2007DAVISBUSTERFLO' and pos = 'WR'\n",
    "combine_drop_index = combine_df.loc[(combine_df['player_id'] == '2007DAVISBUSTERFLO') & (combine_df['Pos'] == 'WR')].index\n",
    "combine_df.drop(combine_drop_index, inplace=True)\n",
    "\n",
    "# drop records where player_id = '2005JOHNSONDERRICKTEX' and pos = 'CB'\n",
    "combine_drop_index = combine_df.loc[(combine_df['player_id'] == '2005JOHNSONDERRICKTEX') & (combine_df['Pos'] == 'CB')].index\n",
    "combine_df.drop(combine_drop_index, inplace=True)"
   ]
  },
  {
   "cell_type": "code",
   "execution_count": 101,
   "metadata": {},
   "outputs": [],
   "source": [
    "# Merge dataframes on player_id\n",
    "draft_raw_df = combine_df.merge(nfl_df, on=['player_id'], how='left')"
   ]
  },
  {
   "cell_type": "code",
   "execution_count": 102,
   "metadata": {},
   "outputs": [],
   "source": [
    "# Drop duplicate columns\n",
    "draft_raw_df.drop(['player', 'year_y', 'pos', 'college_univ'], axis=1, inplace=True)"
   ]
  },
  {
   "cell_type": "code",
   "execution_count": 103,
   "metadata": {},
   "outputs": [],
   "source": [
    "# rename year_x to year\n",
    "draft_raw_df.rename(columns={'Player': 'player_name', 'Pos': 'position', 'School': 'school', 'Ht': 'height', 'year_x': 'year', 'Wt': 'weight', '40yd': 'forty_yard',\n",
    "                         'Vertical': 'vertical_leap', 'Bench': 'bench_press', 'Broad Jump': 'broad_jump', 'Shuttle': 'shuttle_run',\n",
    "                         '3Cone': 'three_cone', 'rnd': 'draft_round', 'pick': 'draft_pick'}, inplace=True)"
   ]
  },
  {
   "cell_type": "code",
   "execution_count": 110,
   "metadata": {},
   "outputs": [],
   "source": [
    "# Drop players with NaN in following columns forty_yard, vertical_leap, bench_press, broad_jump, three_cone, and shuttle_run\n",
    "draft_raw_df.dropna(subset=['forty_yard', 'vertical_leap', 'bench_press', 'broad_jump', 'three_cone', 'shuttle_run'], inplace=True, how='all')"
   ]
  },
  {
   "cell_type": "code",
   "execution_count": 111,
   "metadata": {},
   "outputs": [],
   "source": [
    "# Convert year to int\n",
    "draft_raw_df['year'] = draft_raw_df['year'].astype(int)"
   ]
  },
  {
   "cell_type": "code",
   "execution_count": 112,
   "metadata": {},
   "outputs": [],
   "source": [
    "# Limit to years 2000-2015\n",
    "draft_raw_df = draft_raw_df.loc[(draft_raw_df['year'] >= 2000) & (draft_raw_df['year'] <= 2015)]"
   ]
  },
  {
   "cell_type": "code",
   "execution_count": 113,
   "metadata": {},
   "outputs": [],
   "source": [
    "# write draft_df to csv\n",
    "draft_raw_df.to_csv('C:/Project_Git/project_4_fantasy_football/Resources/tableau_raw_data.csv', index=False)"
   ]
  },
  {
   "cell_type": "code",
   "execution_count": 108,
   "metadata": {},
   "outputs": [],
   "source": [
    "# write df to sqlite\n",
    "conn = sqlite3.connect('C:/Project_Git/project_4_fantasy_football/Resources/database.db')\n",
    "draft_raw_df.to_sql('players_raw', conn, if_exists='replace', index=False)\n",
    "conn.close()"
   ]
  },
  {
   "cell_type": "code",
   "execution_count": 109,
   "metadata": {},
   "outputs": [
    {
     "name": "stdout",
     "output_type": "stream",
     "text": [
      "[(5183,)]\n"
     ]
    }
   ],
   "source": [
    "# confirm data was written to sqlite\n",
    "conn = sqlite3.connect('C:/Project_Git/project_4_fantasy_football/Resources/database.db')\n",
    "cursor = conn.cursor()\n",
    "cursor.execute(\"SELECT count(*) FROM players_raw\")\n",
    "print(cursor.fetchall())\n",
    "conn.close()"
   ]
  }
 ],
 "metadata": {
  "kernelspec": {
   "display_name": "dev2",
   "language": "python",
   "name": "python3"
  },
  "language_info": {
   "codemirror_mode": {
    "name": "ipython",
    "version": 3
   },
   "file_extension": ".py",
   "mimetype": "text/x-python",
   "name": "python",
   "nbconvert_exporter": "python",
   "pygments_lexer": "ipython3",
   "version": "3.10.13"
  }
 },
 "nbformat": 4,
 "nbformat_minor": 2
}
